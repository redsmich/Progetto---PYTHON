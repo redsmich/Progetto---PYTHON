{
 "cells": [
  {
   "cell_type": "code",
   "execution_count": null,
   "id": "8bb387c0-1e4c-4247-9682-23c1678b5a23",
   "metadata": {},
   "outputs": [],
   "source": [
    "import my_package as mp"
   ]
  },
  {
   "cell_type": "code",
   "execution_count": null,
   "id": "d7f97952-0d64-424e-a970-3e9544089c71",
   "metadata": {},
   "outputs": [],
   "source": [
    "file_csv, metodo_scelto, alpha = mp.menu_popup()\n"
   ]
  },
  {
   "cell_type": "code",
   "execution_count": null,
   "id": "a65d05c4-fa64-49a1-a94c-ace0eb894e55",
   "metadata": {},
   "outputs": [],
   "source": [
    "mp.stampa_statistica(valore_statistica, alpha)\n"
   ]
  },
  {
   "cell_type": "code",
   "execution_count": null,
   "id": "ba3b3dfc-6f1e-4787-b107-488124f21ee3",
   "metadata": {},
   "outputs": [],
   "source": [
    "valore_statistica=mp.valore_statistica(file_csv, metodo_scelto)\n",
    "\n"
   ]
  },
  {
   "cell_type": "code",
   "execution_count": null,
   "id": "a042dde8-09b7-4e1d-8036-4b028addf976",
   "metadata": {},
   "outputs": [],
   "source": [
    "mp.test(valore_statistica, alpha)"
   ]
  }
 ],
 "metadata": {
  "kernelspec": {
   "display_name": "Python 3 (ipykernel)",
   "language": "python",
   "name": "python3"
  },
  "language_info": {
   "codemirror_mode": {
    "name": "ipython",
    "version": 3
   },
   "file_extension": ".py",
   "mimetype": "text/x-python",
   "name": "python",
   "nbconvert_exporter": "python",
   "pygments_lexer": "ipython3",
   "version": "3.10.9"
  }
 },
 "nbformat": 4,
 "nbformat_minor": 5
}

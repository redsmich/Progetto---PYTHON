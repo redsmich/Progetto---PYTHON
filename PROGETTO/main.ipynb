{
 "cells": [
  {
   "cell_type": "code",
   "execution_count": null,
   "id": "8bb387c0-1e4c-4247-9682-23c1678b5a23",
   "metadata": {},
   "outputs": [],
   "source": [
    "import my_package as mp"
   ]
  },
  {
   "cell_type": "code",
   "execution_count": null,
   "id": "d7f97952-0d64-424e-a970-3e9544089c71",
   "metadata": {},
   "outputs": [],
   "source": [
    "file_csv, metodo_scelto, alpha = mp.menu_popup()\n"
   ]
  },
  {
   "cell_type": "code",
   "execution_count": null,
   "id": "a65d05c4-fa64-49a1-a94c-ace0eb894e55",
   "metadata": {},
   "outputs": [],
   "source": [
    "valore_statistica=mp.valore_statistica(file_csv, metodo_scelto)\n",
    "mp.stampa_statistica(valore_statistica, alpha)\n",
    "mp.test(valore_statistica, alpha)"
   ]
  }
 ],
 "metadata": {
  "kernelspec": {
   "display_name": "Python 3 (ipykernel)",
   "language": "python",
   "name": "python3"
  },
  "language_info": {
   "codemirror_mode": {
    "name": "ipython",
    "version": 3
   },
   "file_extension": ".py",
   "mimetype": "text/x-python",
   "name": "python",
   "nbconvert_exporter": "python",
   "pygments_lexer": "ipython3",
   "version": "3.10.9"
  }
 },
 "nbformat": 4,
 "nbformat_minor": 5
}
